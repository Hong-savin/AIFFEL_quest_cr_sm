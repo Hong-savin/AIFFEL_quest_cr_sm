{
  "nbformat": 4,
  "nbformat_minor": 0,
  "metadata": {
    "colab": {
      "provenance": []
    },
    "kernelspec": {
      "name": "python3",
      "display_name": "Python 3"
    },
    "language_info": {
      "name": "python"
    }
  },
  "cells": [
    {
      "cell_type": "markdown",
      "source": [
        "# 9-1. 프로젝트 1 : 손수 설계하는 선형회귀, 당뇨병 수치를 맞춰보자!"
      ],
      "metadata": {
        "id": "2ExEDvCcSJKI"
      }
    },
    {
      "cell_type": "code",
      "execution_count": 10,
      "metadata": {
        "id": "e4mdpd8TKcT_"
      },
      "outputs": [],
      "source": [
        "import numpy as np\n",
        "import pandas as pd\n",
        "import matplotlib.pyplot as plt\n",
        "import seaborn as sns"
      ]
    },
    {
      "cell_type": "markdown",
      "source": [
        "### (1) 데이터 가져오기"
      ],
      "metadata": {
        "id": "7ABLUTbCSMYS"
      }
    },
    {
      "cell_type": "code",
      "source": [
        "from sklearn.datasets import load_diabetes\n",
        "\n",
        "diabetes = load_diabetes()"
      ],
      "metadata": {
        "id": "YOKSoD43PMrY"
      },
      "execution_count": 50,
      "outputs": []
    },
    {
      "cell_type": "markdown",
      "source": [
        "### (2) 모델에 입력할 데이터 X 준비하기 & (3) 모델에 예측할 데이터 y 준비하기\n"
      ],
      "metadata": {
        "id": "e2dNtegqSPDj"
      }
    },
    {
      "cell_type": "code",
      "source": [
        "df_X = diabetes.data\n",
        "df_y = diabetes.target"
      ],
      "metadata": {
        "id": "bFC-PxYUPsnS"
      },
      "execution_count": 51,
      "outputs": []
    },
    {
      "cell_type": "markdown",
      "source": [
        "### (4) train 데이터와 test 데이터로 분리하기"
      ],
      "metadata": {
        "id": "rS5qlnyTSaMv"
      }
    },
    {
      "cell_type": "code",
      "source": [
        "from sklearn.model_selection import train_test_split\n",
        "\n",
        "X_train,X_test,y_train,y_test = train_test_split(df_X,df_y,test_size=0.2,random_state=42)\n",
        "\n",
        "print(X_train.shape)\n",
        "print(X_test.shape)\n",
        "print(y_train.shape)\n",
        "print(y_test.shape)"
      ],
      "metadata": {
        "colab": {
          "base_uri": "https://localhost:8080/"
        },
        "id": "ebcaGoHkRWKC",
        "outputId": "7c66da3d-3176-4928-f35d-20890c9162ff"
      },
      "execution_count": 67,
      "outputs": [
        {
          "output_type": "stream",
          "name": "stdout",
          "text": [
            "(353, 10)\n",
            "(89, 10)\n",
            "(353,)\n",
            "(89,)\n"
          ]
        }
      ]
    },
    {
      "cell_type": "markdown",
      "source": [
        "### (5) 모델 준비하기"
      ],
      "metadata": {
        "id": "8sf-lQImSfkH"
      }
    },
    {
      "cell_type": "markdown",
      "source": [
        "- 입력 데이터 개수에 맞는 가중치 W와 b를 준비해주세요."
      ],
      "metadata": {
        "id": "H7wkaq1BS7BS"
      }
    },
    {
      "cell_type": "code",
      "source": [
        "W = np.random.rand(10)\n",
        "b = np.random.rand()"
      ],
      "metadata": {
        "id": "yi7gcrjgRfRe"
      },
      "execution_count": 68,
      "outputs": []
    },
    {
      "cell_type": "markdown",
      "source": [
        "- 모델 함수를 구현해주세요."
      ],
      "metadata": {
        "id": "Rm_YHbL8S9JB"
      }
    },
    {
      "cell_type": "code",
      "source": [
        "def model(X, W, b):\n",
        "    predictions = 0\n",
        "    for i in range(10):\n",
        "        predictions += X[:, i] * W[i]\n",
        "    predictions += b\n",
        "    return predictions"
      ],
      "metadata": {
        "id": "czLPS3hvSmpr"
      },
      "execution_count": 69,
      "outputs": []
    },
    {
      "cell_type": "markdown",
      "source": [
        "### (6) 손실함수 loss 정의하기"
      ],
      "metadata": {
        "id": "BWcvBK52S_M6"
      }
    },
    {
      "cell_type": "code",
      "source": [
        "def MSE(a, b):\n",
        "    mse = ((a - b) ** 2).mean()\n",
        "    return mse"
      ],
      "metadata": {
        "id": "a_AKo0dfSuz5"
      },
      "execution_count": 70,
      "outputs": []
    },
    {
      "cell_type": "code",
      "source": [
        "def loss(X, W, b, y):\n",
        "    predictions = model(X, W, b)\n",
        "    L = MSE(predictions, y)\n",
        "    return L"
      ],
      "metadata": {
        "id": "oMTGW3ZcSwxk"
      },
      "execution_count": 71,
      "outputs": []
    },
    {
      "cell_type": "markdown",
      "source": [
        "### (7) 기울기를 구하는 gradient 함수 구현하기"
      ],
      "metadata": {
        "id": "OMyGcaOuTCt8"
      }
    },
    {
      "cell_type": "code",
      "source": [
        "def gradient(X, W, b, y):\n",
        "    N = len(y)\n",
        "    y_pred = model(X, W, b)\n",
        "    dW = 1/N * 2 * X.T.dot(y_pred - y)\n",
        "    db = 2 * (y_pred - y).mean()\n",
        "    return dW, db"
      ],
      "metadata": {
        "id": "OXDckML5S4Z6"
      },
      "execution_count": 72,
      "outputs": []
    },
    {
      "cell_type": "code",
      "source": [
        "dW, db = gradient(df_X, W, b, df_y)\n",
        "print(\"dW:\", dW)\n",
        "print(\"db:\", db)"
      ],
      "metadata": {
        "colab": {
          "base_uri": "https://localhost:8080/"
        },
        "id": "uIy23VDDTIHW",
        "outputId": "8c510144-d822-483d-f5b0-555c12af4212"
      },
      "execution_count": 73,
      "outputs": [
        {
          "output_type": "stream",
          "name": "stdout",
          "text": [
            "dW: [-1.3675936  -0.30908518 -4.28643549 -3.22590033 -1.54263467 -1.2643774\n",
            "  2.88539914 -3.14154703 -4.1352637  -2.79128811]\n",
            "db: -303.5210050670677\n"
          ]
        }
      ]
    },
    {
      "cell_type": "markdown",
      "source": [
        "### (8) 하이퍼 파라미터인 학습률 설정하기"
      ],
      "metadata": {
        "id": "irDCQ4qDVLTF"
      }
    },
    {
      "cell_type": "code",
      "source": [
        "LEARNING_RATE = 0.165"
      ],
      "metadata": {
        "id": "M6SjpAcGTjmR"
      },
      "execution_count": 93,
      "outputs": []
    },
    {
      "cell_type": "code",
      "source": [
        "losses = []\n",
        "\n",
        "for i in range(1, 1001):\n",
        "    dW, db = gradient(df_X, W, b, df_y)\n",
        "    W -= LEARNING_RATE * dW\n",
        "    b -= LEARNING_RATE * db\n",
        "    L = loss(df_X, W, b, df_y)\n",
        "    losses.append(L)\n",
        "    if i % 10 == 0:\n",
        "        print('Iteration %d : Loss %0.4f' % (i, L))"
      ],
      "metadata": {
        "colab": {
          "base_uri": "https://localhost:8080/"
        },
        "id": "ZqVLrjEZVOGB",
        "outputId": "bdab2bb9-07de-4e96-c075-ccb6ccf7b61c"
      },
      "execution_count": 94,
      "outputs": [
        {
          "output_type": "stream",
          "name": "stdout",
          "text": [
            "Iteration 10 : Loss 2879.5404\n",
            "Iteration 20 : Loss 2879.5344\n",
            "Iteration 30 : Loss 2879.5285\n",
            "Iteration 40 : Loss 2879.5226\n",
            "Iteration 50 : Loss 2879.5167\n",
            "Iteration 60 : Loss 2879.5108\n",
            "Iteration 70 : Loss 2879.5050\n",
            "Iteration 80 : Loss 2879.4991\n",
            "Iteration 90 : Loss 2879.4933\n",
            "Iteration 100 : Loss 2879.4876\n",
            "Iteration 110 : Loss 2879.4818\n",
            "Iteration 120 : Loss 2879.4761\n",
            "Iteration 130 : Loss 2879.4703\n",
            "Iteration 140 : Loss 2879.4646\n",
            "Iteration 150 : Loss 2879.4590\n",
            "Iteration 160 : Loss 2879.4533\n",
            "Iteration 170 : Loss 2879.4477\n",
            "Iteration 180 : Loss 2879.4421\n",
            "Iteration 190 : Loss 2879.4365\n",
            "Iteration 200 : Loss 2879.4309\n",
            "Iteration 210 : Loss 2879.4254\n",
            "Iteration 220 : Loss 2879.4198\n",
            "Iteration 230 : Loss 2879.4143\n",
            "Iteration 240 : Loss 2879.4088\n",
            "Iteration 250 : Loss 2879.4034\n",
            "Iteration 260 : Loss 2879.3979\n",
            "Iteration 270 : Loss 2879.3925\n",
            "Iteration 280 : Loss 2879.3871\n",
            "Iteration 290 : Loss 2879.3817\n",
            "Iteration 300 : Loss 2879.3763\n",
            "Iteration 310 : Loss 2879.3709\n",
            "Iteration 320 : Loss 2879.3656\n",
            "Iteration 330 : Loss 2879.3603\n",
            "Iteration 340 : Loss 2879.3550\n",
            "Iteration 350 : Loss 2879.3497\n",
            "Iteration 360 : Loss 2879.3444\n",
            "Iteration 370 : Loss 2879.3392\n",
            "Iteration 380 : Loss 2879.3340\n",
            "Iteration 390 : Loss 2879.3288\n",
            "Iteration 400 : Loss 2879.3236\n",
            "Iteration 410 : Loss 2879.3184\n",
            "Iteration 420 : Loss 2879.3132\n",
            "Iteration 430 : Loss 2879.3081\n",
            "Iteration 440 : Loss 2879.3030\n",
            "Iteration 450 : Loss 2879.2979\n",
            "Iteration 460 : Loss 2879.2928\n",
            "Iteration 470 : Loss 2879.2877\n",
            "Iteration 480 : Loss 2879.2826\n",
            "Iteration 490 : Loss 2879.2776\n",
            "Iteration 500 : Loss 2879.2726\n",
            "Iteration 510 : Loss 2879.2675\n",
            "Iteration 520 : Loss 2879.2625\n",
            "Iteration 530 : Loss 2879.2576\n",
            "Iteration 540 : Loss 2879.2526\n",
            "Iteration 550 : Loss 2879.2477\n",
            "Iteration 560 : Loss 2879.2427\n",
            "Iteration 570 : Loss 2879.2378\n",
            "Iteration 580 : Loss 2879.2329\n",
            "Iteration 590 : Loss 2879.2280\n",
            "Iteration 600 : Loss 2879.2231\n",
            "Iteration 610 : Loss 2879.2183\n",
            "Iteration 620 : Loss 2879.2134\n",
            "Iteration 630 : Loss 2879.2086\n",
            "Iteration 640 : Loss 2879.2038\n",
            "Iteration 650 : Loss 2879.1990\n",
            "Iteration 660 : Loss 2879.1942\n",
            "Iteration 670 : Loss 2879.1894\n",
            "Iteration 680 : Loss 2879.1847\n",
            "Iteration 690 : Loss 2879.1799\n",
            "Iteration 700 : Loss 2879.1752\n",
            "Iteration 710 : Loss 2879.1705\n",
            "Iteration 720 : Loss 2879.1658\n",
            "Iteration 730 : Loss 2879.1611\n",
            "Iteration 740 : Loss 2879.1564\n",
            "Iteration 750 : Loss 2879.1517\n",
            "Iteration 760 : Loss 2879.1471\n",
            "Iteration 770 : Loss 2879.1425\n",
            "Iteration 780 : Loss 2879.1378\n",
            "Iteration 790 : Loss 2879.1332\n",
            "Iteration 800 : Loss 2879.1286\n",
            "Iteration 810 : Loss 2879.1240\n",
            "Iteration 820 : Loss 2879.1195\n",
            "Iteration 830 : Loss 2879.1149\n",
            "Iteration 840 : Loss 2879.1103\n",
            "Iteration 850 : Loss 2879.1058\n",
            "Iteration 860 : Loss 2879.1013\n",
            "Iteration 870 : Loss 2879.0968\n",
            "Iteration 880 : Loss 2879.0923\n",
            "Iteration 890 : Loss 2879.0878\n",
            "Iteration 900 : Loss 2879.0833\n",
            "Iteration 910 : Loss 2879.0788\n",
            "Iteration 920 : Loss 2879.0744\n",
            "Iteration 930 : Loss 2879.0699\n",
            "Iteration 940 : Loss 2879.0655\n",
            "Iteration 950 : Loss 2879.0611\n",
            "Iteration 960 : Loss 2879.0567\n",
            "Iteration 970 : Loss 2879.0523\n",
            "Iteration 980 : Loss 2879.0479\n",
            "Iteration 990 : Loss 2879.0435\n",
            "Iteration 1000 : Loss 2879.0392\n"
          ]
        }
      ]
    },
    {
      "cell_type": "code",
      "source": [
        "prediction = model(X_test, W, b)\n",
        "mse = loss(X_test, W, b, y_test)\n",
        "mse"
      ],
      "metadata": {
        "colab": {
          "base_uri": "https://localhost:8080/"
        },
        "id": "PWZhp8EaVP0a",
        "outputId": "31938fb7-65c7-4217-8dd0-df1019b92e2f"
      },
      "execution_count": 99,
      "outputs": [
        {
          "output_type": "execute_result",
          "data": {
            "text/plain": [
              "2771.590570067213"
            ]
          },
          "metadata": {},
          "execution_count": 99
        }
      ]
    },
    {
      "cell_type": "code",
      "source": [
        "plt.scatter(X_test[:, 0], y_test)\n",
        "plt.scatter(X_test[:, 0], prediction)\n",
        "plt.show()"
      ],
      "metadata": {
        "colab": {
          "base_uri": "https://localhost:8080/",
          "height": 430
        },
        "id": "oP3IhUmqXrms",
        "outputId": "89b2fb1f-bf57-4dc7-cca8-8ebd5d24b39d"
      },
      "execution_count": 100,
      "outputs": [
        {
          "output_type": "display_data",
          "data": {
            "text/plain": [
              "<Figure size 640x480 with 1 Axes>"
            ],
            "image/png": "[encoded data removed]"
          },
          "metadata": {}
        }
      ]
    },
    {
      "cell_type": "code",
      "source": [],
      "metadata": {
        "id": "DOZihe0-X6Pg"
      },
      "execution_count": null,
      "outputs": []
    }
  ]
}